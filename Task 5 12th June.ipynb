{
 "cells": [
  {
   "cell_type": "markdown",
   "metadata": {},
   "source": [
    "Question-1:\n",
    "- Write a Python script to print a dictionary where the keys are numbers between 1 and 15 (both included) and the values are square of keys"
   ]
  },
  {
   "cell_type": "code",
   "execution_count": 1,
   "metadata": {},
   "outputs": [
    {
     "name": "stdout",
     "output_type": "stream",
     "text": [
      "Enter a number:15\n",
      "{1: 1, 2: 4, 3: 9, 4: 16, 5: 25, 6: 36, 7: 49, 8: 64, 9: 81, 10: 100, 11: 121, 12: 144, 13: 169, 14: 196, 15: 225}\n"
     ]
    }
   ],
   "source": [
    "x=int(input(\"Enter a number:\"))\n",
    "my_dict = dict()\n",
    "\n",
    "for i in range(1,x+1):\n",
    "    my_dict[i]=i*i\n",
    "\n",
    "print(my_dict) "
   ]
  },
  {
   "cell_type": "markdown",
   "metadata": {},
   "source": [
    "Question-2:\n",
    "- Write a Python program to map two lists into a dictionary"
   ]
  },
  {
   "cell_type": "code",
   "execution_count": 2,
   "metadata": {},
   "outputs": [
    {
     "name": "stdout",
     "output_type": "stream",
     "text": [
      "Enter the Number of elements for this Dictionary: 3\n",
      "Enter List_A 1 = Name\n",
      "Enter List_A 2 = Age\n",
      "Enter List_A 3 = Occupation\n",
      "Enter List_B 1 = John\n",
      "Enter List_B 2 = 24\n",
      "Enter List_B 3 = Teacher\n",
      "Dictionary Items: {'Name': 'John', 'Age': '24', 'Occupation': 'Teacher'}\n"
     ]
    }
   ],
   "source": [
    "List_A = []\n",
    "List_B = []\n",
    "num = int(input(\"Enter the Number of elements for this Dictionary: \"))\n",
    "for i in range(0, num):\n",
    "    x = input(\"Enter List_A \" + str(i + 1) + \" = \")\n",
    "    List_A.append(x)\n",
    "for i in range(0, num):\n",
    "    x = input(\"Enter List_B \" + str(i + 1) + \" = \")\n",
    "    List_B.append(x)\n",
    "    \n",
    "my_dict = dict(zip(List_A, List_B))\n",
    "print(\"Dictionary Items:\",  my_dict)"
   ]
  },
  {
   "cell_type": "markdown",
   "metadata": {},
   "source": [
    "Question-3:\n",
    "- Write a Python program to sort a list alphabetically in a dictionary\n",
    "     - input : {'n1': [2, 3, 1], 'n2': [5, 1, 2], 'n3': [3, 2, 4]}\n",
    "     - output : {'n1': [1, 2, 3], 'n2': [1, 2, 5], 'n3': [2, 3, 4]}"
   ]
  },
  {
   "cell_type": "code",
   "execution_count": 3,
   "metadata": {},
   "outputs": [
    {
     "name": "stdout",
     "output_type": "stream",
     "text": [
      "{'n1': [1, 2, 3], 'n2': [1, 2, 5], 'n3': [2, 3, 4]}\n"
     ]
    }
   ],
   "source": [
    "dict = {'n1': [2, 3, 1], 'n2': [5, 1, 2], 'n3': [3, 2, 4]}\n",
    "sorted_dict = {x: sorted(y) for x, y in dict.items()}\n",
    "print(sorted_dict)"
   ]
  }
 ],
 "metadata": {
  "kernelspec": {
   "display_name": "Python 3",
   "language": "python",
   "name": "python3"
  },
  "language_info": {
   "codemirror_mode": {
    "name": "ipython",
    "version": 3
   },
   "file_extension": ".py",
   "mimetype": "text/x-python",
   "name": "python",
   "nbconvert_exporter": "python",
   "pygments_lexer": "ipython3",
   "version": "3.7.6"
  }
 },
 "nbformat": 4,
 "nbformat_minor": 4
}
