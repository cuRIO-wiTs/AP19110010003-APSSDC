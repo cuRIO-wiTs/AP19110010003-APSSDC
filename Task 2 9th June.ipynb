{
 "cells": [
  {
   "cell_type": "markdown",
   "metadata": {},
   "source": [
    "Find all the leap years between 1800 to 2020"
   ]
  },
  {
   "cell_type": "code",
   "execution_count": null,
   "metadata": {},
   "outputs": [],
   "source": [
    "for i in range(1800,2021):\n",
    "    if (i%4==0 and i%100!=0) or i%400==0:\n",
    "        print(i,end=\" \")"
   ]
  },
  {
   "cell_type": "markdown",
   "metadata": {},
   "source": [
    "#Take last three vaues of roll number \n",
    "#if values starts with \"01\"-\"CSE Department\"\n",
    "#elif values starts with \"11\"-\"IT Department\"\n",
    "#elif values starts with \"21\"-\"ECE Department\"\n",
    "#else \"not a student of SRM\""
   ]
  },
  {
   "cell_type": "code",
   "execution_count": null,
   "metadata": {},
   "outputs": [],
   "source": [
    "x=input(\"Enter Your Roll Number:\")\n",
    "if x[-3:].startswith(\"01\"):\n",
    "    print(\"CSE Dept\")\n",
    "elif x[-3:].startswith(\"11\"):\n",
    "    print(\"IT Dept\")\n",
    "elif x[-3:].startswith(\"21\"):\n",
    "    print(\"ECE Dept\")\n",
    "else:\n",
    "    print(\"Not a student of SRM\")"
   ]
  }
 ],
 "metadata": {
  "kernelspec": {
   "display_name": "Python 3",
   "language": "python",
   "name": "python3"
  },
  "language_info": {
   "codemirror_mode": {
    "name": "ipython",
    "version": 3
   },
   "file_extension": ".py",
   "mimetype": "text/x-python",
   "name": "python",
   "nbconvert_exporter": "python",
   "pygments_lexer": "ipython3",
   "version": "3.7.6"
  }
 },
 "nbformat": 4,
 "nbformat_minor": 4
}
