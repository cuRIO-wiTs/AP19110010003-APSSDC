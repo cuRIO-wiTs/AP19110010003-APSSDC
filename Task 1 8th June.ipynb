{
 "cells": [
  {
   "cell_type": "markdown",
   "metadata": {},
   "source": [
    "Question 1:\n",
    "Write a program to check whether the user is eligible to vote or not"
   ]
  },
  {
   "cell_type": "code",
   "execution_count": null,
   "metadata": {},
   "outputs": [],
   "source": [
    "x=int(input(\"Enter Your Age: \"))\n",
    "if x>=18:\n",
    "    print(\"You are eligible to vote!!\")\n",
    "else:\n",
    "    print(\"You are not eligible to vote!!\")\n",
    "        "
   ]
  },
  {
   "cell_type": "markdown",
   "metadata": {},
   "source": [
    "Question 2:\n",
    "Check the given number is positive or negative"
   ]
  },
  {
   "cell_type": "code",
   "execution_count": null,
   "metadata": {},
   "outputs": [],
   "source": [
    "x=int(input(\"Enter number: \"))\n",
    "if x>=0:\n",
    "    print(\"Positive number\")\n",
    "else:\n",
    "    print(\"Negative number\")"
   ]
  },
  {
   "cell_type": "markdown",
   "metadata": {},
   "source": [
    "Question 3:\n",
    "check the given number is even or odd if it's even check which is divisible by 4 or not"
   ]
  },
  {
   "cell_type": "code",
   "execution_count": null,
   "metadata": {},
   "outputs": [],
   "source": [
    "x=int(input(\"Enter number: \"))\n",
    "if x%2==0:\n",
    "    print(\"Even Number\")\n",
    "    if x%4==0:\n",
    "        print(\"It is divisible by 4\")\n",
    "    else:\n",
    "        print(\"It is not divisible by 4\")\n",
    "else:\n",
    "    print(\"Odd number\")"
   ]
  },
  {
   "cell_type": "markdown",
   "metadata": {},
   "source": [
    "Question 4:\n",
    "Write a program to print student grade based on percentage like Distinction,pass or fail"
   ]
  },
  {
   "cell_type": "code",
   "execution_count": null,
   "metadata": {},
   "outputs": [],
   "source": [
    "x=float(input(\"Enter your grade: \"))\n",
    "if x>=85:\n",
    "    print(\"Distinction Grade A \")\n",
    "elif x>=75:\n",
    "    print(\"Distinction Grade B\")\n",
    "elif x>=50:\n",
    "    print(\"Pass Grade C\")\n",
    "else:\n",
    "    print(\"Fail\")\n"
   ]
  },
  {
   "cell_type": "markdown",
   "metadata": {},
   "source": [
    "Question 5:\n",
    "Check the given year is Leap or not"
   ]
  },
  {
   "cell_type": "code",
   "execution_count": null,
   "metadata": {},
   "outputs": [],
   "source": [
    "x=int(input(\"Enter Year: \"))\n",
    "if x % 4 == 0 and x % 100 != 0:\n",
    "    print(x,\"is a Leap Year\")\n",
    "elif x % 100 == 0:\n",
    "    print(x,\"is not a Leap Year\")\n",
    "elif x % 400 ==0:\n",
    "    print(x,\"is a Leap Year\")\n",
    "else:\n",
    "    print(x,\"is not a Leap Year\")"
   ]
  }
 ],
 "metadata": {
  "kernelspec": {
   "display_name": "Python 3",
   "language": "python",
   "name": "python3"
  },
  "language_info": {
   "codemirror_mode": {
    "name": "ipython",
    "version": 3
   },
   "file_extension": ".py",
   "mimetype": "text/x-python",
   "name": "python",
   "nbconvert_exporter": "python",
   "pygments_lexer": "ipython3",
   "version": "3.7.6"
  }
 },
 "nbformat": 4,
 "nbformat_minor": 4
}
