{
 "cells": [
  {
   "cell_type": "markdown",
   "metadata": {},
   "source": [
    "Question:\n",
    "<br>Write a Python that takes two lists and returns True if they have at least one common member."
   ]
  },
  {
   "cell_type": "code",
   "execution_count": 5,
   "metadata": {},
   "outputs": [
    {
     "name": "stdout",
     "output_type": "stream",
     "text": [
      "Enter elements into list1: 1 2 3 4 5\n",
      "Enter elements into list2: 1 6 7 8 9\n",
      "True\n"
     ]
    }
   ],
   "source": [
    "l1 = []\n",
    "l1 = input(\"Enter elements into list1: \").split()\n",
    "l2 = []\n",
    "l2 = input(\"Enter elements into list2: \").split()\n",
    "result = False\n",
    "for i in l1:\n",
    "    if i in l2:\n",
    "        result = True\n",
    "        break\n",
    "print(result)"
   ]
  },
  {
   "cell_type": "code",
   "execution_count": 6,
   "metadata": {},
   "outputs": [
    {
     "name": "stdout",
     "output_type": "stream",
     "text": [
      "Enter elements into list1: 1 2 3 4 5\n",
      "Enter elements into list2: 6 7 8 9 0\n",
      "False\n"
     ]
    }
   ],
   "source": [
    "l1 = []\n",
    "l1 = input(\"Enter elements into list1: \").split()\n",
    "l2 = []\n",
    "l2 = input(\"Enter elements into list2: \").split()\n",
    "result = False\n",
    "for i in l1:\n",
    "    if i in l2:\n",
    "        result = True\n",
    "        break\n",
    "print(result)"
   ]
  }
 ],
 "metadata": {
  "kernelspec": {
   "display_name": "Python 3",
   "language": "python",
   "name": "python3"
  },
  "language_info": {
   "codemirror_mode": {
    "name": "ipython",
    "version": 3
   },
   "file_extension": ".py",
   "mimetype": "text/x-python",
   "name": "python",
   "nbconvert_exporter": "python",
   "pygments_lexer": "ipython3",
   "version": "3.7.6"
  }
 },
 "nbformat": 4,
 "nbformat_minor": 4
}
