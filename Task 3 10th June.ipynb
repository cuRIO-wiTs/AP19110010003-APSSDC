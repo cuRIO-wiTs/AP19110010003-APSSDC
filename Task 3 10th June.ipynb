{
 "cells": [
  {
   "cell_type": "markdown",
   "metadata": {},
   "source": [
    "Question:\n",
    "<br>Take input from the user.\n",
    "<br>Check the length of the string even or odd\n",
    "<br>If the string length is odd access one middle character\n",
    "<br>If the string length is even access two middle characters"
   ]
  },
  {
   "cell_type": "code",
   "execution_count": 1,
   "metadata": {},
   "outputs": [
    {
     "name": "stdout",
     "output_type": "stream",
     "text": [
      "Enter String: elephant\n",
      "8\n",
      "Even String\n",
      "Middle letters: p h\n"
     ]
    }
   ],
   "source": [
    "x=str(input(\"Enter String: \"))\n",
    "y=len(x)//2\n",
    "print(len(x))\n",
    "if len(x)%2==0:\n",
    "    print(\"Even String\")\n",
    "    print(\"Middle letters:\",x[len(x)//2-1],x[len(x)//2])\n",
    "else:\n",
    "    print(\"Odd String\")\n",
    "    if len(x)%2!=0:\n",
    "        print(\"Middle letter:\",x[len(x)//2])"
   ]
  },
  {
   "cell_type": "code",
   "execution_count": 2,
   "metadata": {},
   "outputs": [
    {
     "name": "stdout",
     "output_type": "stream",
     "text": [
      "Enter String: leather\n",
      "7\n",
      "Odd String\n",
      "Middle letter: t\n"
     ]
    }
   ],
   "source": [
    "x=str(input(\"Enter String: \"))\n",
    "y=len(x)//2\n",
    "print(len(x))\n",
    "if len(x)%2==0:\n",
    "    print(\"Even String\")\n",
    "    print(\"Middle letters:\",x[len(x)//2-1],x[len(x)//2])\n",
    "else:\n",
    "    print(\"Odd String\")\n",
    "    if len(x)%2!=0:\n",
    "        print(\"Middle letter:\",x[len(x)//2])"
   ]
  }
 ],
 "metadata": {
  "kernelspec": {
   "display_name": "Python 3",
   "language": "python",
   "name": "python3"
  },
  "language_info": {
   "codemirror_mode": {
    "name": "ipython",
    "version": 3
   },
   "file_extension": ".py",
   "mimetype": "text/x-python",
   "name": "python",
   "nbconvert_exporter": "python",
   "pygments_lexer": "ipython3",
   "version": "3.7.6"
  }
 },
 "nbformat": 4,
 "nbformat_minor": 4
}
