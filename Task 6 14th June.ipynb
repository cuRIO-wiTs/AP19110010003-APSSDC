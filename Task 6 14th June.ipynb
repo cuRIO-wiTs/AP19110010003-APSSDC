{
 "cells": [
  {
   "cell_type": "markdown",
   "metadata": {},
   "source": [
    "Question 1:\n",
    "<br>Write a program to display four digit numbers from the list\n",
    "<br>list=[5841,987654321,453267,1234,675,8797]"
   ]
  },
  {
   "cell_type": "code",
   "execution_count": 6,
   "metadata": {},
   "outputs": [
    {
     "name": "stdout",
     "output_type": "stream",
     "text": [
      "1234\n",
      "8797\n"
     ]
    }
   ],
   "source": [
    "import re\n",
    "list1 = ['584', '987654321', '453267', '1234', '675', '8797']\n",
    "for i in list1:\n",
    "    if re.findall('^[0-9]{4}$', i):\n",
    "        print(i)"
   ]
  },
  {
   "cell_type": "markdown",
   "metadata": {},
   "source": [
    "Question 2:\n",
    "<br>Validate a phone number using patterns\n",
    "<br>ph_list = [9876543210, 8123456789, 7890123456, 789654, 1234567890]"
   ]
  },
  {
   "cell_type": "code",
   "execution_count": 13,
   "metadata": {},
   "outputs": [
    {
     "name": "stdout",
     "output_type": "stream",
     "text": [
      "9876543210\n",
      "8123456789\n",
      "7890123456\n"
     ]
    }
   ],
   "source": [
    "ph_list = ['9876543210', '8123456789', '7890123456', '789654', '1234567890']\n",
    "for i in ph_list:\n",
    "    if re.findall('[6-9]{1}[0-9]{9}$', i):\n",
    "        print(i)"
   ]
  }
 ],
 "metadata": {
  "kernelspec": {
   "display_name": "Python 3",
   "language": "python",
   "name": "python3"
  },
  "language_info": {
   "codemirror_mode": {
    "name": "ipython",
    "version": 3
   },
   "file_extension": ".py",
   "mimetype": "text/x-python",
   "name": "python",
   "nbconvert_exporter": "python",
   "pygments_lexer": "ipython3",
   "version": "3.7.6"
  }
 },
 "nbformat": 4,
 "nbformat_minor": 4
}
